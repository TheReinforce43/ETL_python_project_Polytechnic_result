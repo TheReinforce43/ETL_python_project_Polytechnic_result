{
 "cells": [
  {
   "cell_type": "code",
   "execution_count": 20,
   "metadata": {},
   "outputs": [],
   "source": [
    "import re\n",
    "import csv\n",
    "from PyPDF2 import PdfReader\n",
    "\n",
    "# Function to extract student data from the PDF\n",
    "def extract_student_data_from_pdf(pdf_file, session_year, probidhan, semester_num):\n",
    "    reader = PdfReader(pdf_file)\n",
    "    student_data = []\n",
    "\n",
    "    # Regex patterns to capture relevant information\n",
    "    polytechnic_pattern = r\"(\\d{5}) - ([A-Za-z\\s,]+)\"  # Matches 'polytechnic_code - polytechnic_name'\n",
    "    student_result_pattern = r\"(\\d{6})\\s*\\(\\s*([\\d\\.]+)\\s*\\)\"  # Matches 'student_roll ( GPA )'\n",
    "\n",
    "\n",
    "    # Define semester column names\n",
    "    semester_names = [\n",
    "        \"first_semester\", \"second_semester\", \"third_semester\", \"fourth_semester\",\n",
    "        \"fifth_semester\", \"sixth_semester\", \"seventh_semester\", \"eighth_semester\"\n",
    "    ]\n",
    "\n",
    "    for page_num in range(len(reader.pages)):\n",
    "       \n",
    "        page = reader.pages[page_num]\n",
    "        text = page.extract_text()\n",
    "\n",
    "        # Extract polytechnic information (code and name)\n",
    "        polytechnic_match = re.search(polytechnic_pattern, text)\n",
    "        if polytechnic_match:\n",
    "            polytechnic_code = polytechnic_match.group(1)\n",
    "            polytechnic_name = polytechnic_match.group(2).strip()\n",
    "\n",
    "        # Find all student results (roll number and GPA)\n",
    "        student_matches = re.findall(student_result_pattern, text)\n",
    "        \n",
    "\n",
    "        # Store each student's data\n",
    "        for student_roll, gpa in student_matches:\n",
    "            student_data.append({\n",
    "                \"polytechnic_name\": polytechnic_name,\n",
    "                \"polytechnic_code\": polytechnic_code,\n",
    "                \"probidhan\": probidhan,\n",
    "                \"session_year\": session_year,\n",
    "                \"student_roll\": student_roll,\n",
    "                semester_names[semester_num - 1]: gpa   \n",
    "            })\n",
    "\n",
    "    return student_data\n",
    "\n",
    "# Function to write the extracted data to a CSV file\n",
    "def write_to_csv(file_path, student_data):\n",
    "    # Define CSV header\n",
    "    header = [\"polytechnic_name\", \"polytechnic_code\", \"probidhan\", \"session_year\", \"student_roll\"] + [\n",
    "        \"first_semester\", \"second_semester\", \"third_semester\", \"fourth_semester\",\n",
    "        \"fifth_semester\", \"sixth_semester\", \"seventh_semester\", \"eighth_semester\"\n",
    "    ]\n",
    "\n",
    "    # Open the CSV file for writing\n",
    "    with open(file_path, mode='w', newline='', encoding='utf-8') as file:\n",
    "        writer = csv.DictWriter(file, fieldnames=header)\n",
    "\n",
    "        # Write the header row\n",
    "        writer.writeheader()\n",
    "\n",
    "        # Fill missing semester columns with 'null'\n",
    "        for data in student_data:\n",
    "            for sem_name in header[5:]:  # Skip first 5 columns\n",
    "                if sem_name not in data:\n",
    "                    data[sem_name] = \"null\"\n",
    "            writer.writerow(data)\n"
   ]
  },
  {
   "cell_type": "code",
   "execution_count": 36,
   "metadata": {},
   "outputs": [],
   "source": [
    "\n",
    "# Example Usage\n",
    "pdf_file = r'Test_Result\\2022_Probidhan\\Data\\Session_2023_2024\\Result_1st_2022_Regulation.pdf'  # Replace with your actual file path\n",
    "session_year = '2023-2024'  # Example session year\n",
    "probidhan = '2022'  # Example probidhan\n",
    "semester_num = 1 # Example semester number\n",
    "\n",
    "# Extract student data from the PDF\n",
    "student_data = extract_student_data_from_pdf(pdf_file, session_year, probidhan, semester_num)\n"
   ]
  },
  {
   "cell_type": "code",
   "execution_count": 37,
   "metadata": {},
   "outputs": [
    {
     "name": "stdout",
     "output_type": "stream",
     "text": [
      "✅ Data successfully written to: Test_Result\\2022_Probidhan\\Regular_CSV\\2023_2024_first_Semester.csv\n"
     ]
    }
   ],
   "source": [
    "\n",
    "# Write extracted data to a CSV file\n",
    "csv_file_path = r'Test_Result\\2022_Probidhan\\Regular_CSV\\2023_2024_first_Semester.csv'\n",
    "write_to_csv(csv_file_path, student_data)\n",
    "\n",
    "print(f\"✅ Data successfully written to: {csv_file_path}\")\n"
   ]
  }
 ],
 "metadata": {
  "kernelspec": {
   "display_name": "Python 3",
   "language": "python",
   "name": "python3"
  },
  "language_info": {
   "codemirror_mode": {
    "name": "ipython",
    "version": 3
   },
   "file_extension": ".py",
   "mimetype": "text/x-python",
   "name": "python",
   "nbconvert_exporter": "python",
   "pygments_lexer": "ipython3",
   "version": "3.12.4"
  }
 },
 "nbformat": 4,
 "nbformat_minor": 2
}
