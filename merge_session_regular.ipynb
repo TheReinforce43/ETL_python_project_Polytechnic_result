{
 "cells": [
  {
   "cell_type": "markdown",
   "metadata": {},
   "source": [
    "Merge the csv file for refard subject"
   ]
  },
  {
   "cell_type": "code",
   "execution_count": 22,
   "metadata": {},
   "outputs": [],
   "source": [
    "import csv\n",
    "\n",
    "# Function to read a CSV file and return the data as a dictionary with student_roll as key\n",
    "def read_csv_to_dict(file_path):\n",
    "    data = {}\n",
    "    with open(file_path, mode='r', newline='') as file:\n",
    "        reader = csv.DictReader(file)\n",
    "        for row in reader:\n",
    "            student_roll = row[\"student_roll\"]\n",
    "            data[student_roll] = row\n",
    "    return data\n",
    "\n",
    "# Function to merge the second CSV into the base CSV based on student_roll\n",
    "def merge_refard_csv_files(base_file, new_file, semester_num, output_file):\n",
    "    # Read the base file and new file into dictionaries\n",
    "    base_data = read_csv_to_dict(base_file)\n",
    "    new_data = read_csv_to_dict(new_file)\n",
    "    \n",
    "    # Merge the new data into the base data\n",
    "    for student_roll, new_row in new_data.items():\n",
    "        if student_roll in base_data:\n",
    "            # Update the existing student row with the new semester data\n",
    "            base_data[student_roll][f\"sem_{semester_num}\"] = new_row.get(f\"sem_{semester_num}\", \"null\")\n",
    "        else:\n",
    "            # If the student doesn't exist in the base, add the new student row with missing semesters set to 'null'\n",
    "            for i in range(1, 9):\n",
    "                if f\"sem_{i}\" not in new_row:\n",
    "                    new_row[f\"sem_{i}\"] = 'null'\n",
    "            base_data[student_roll] = new_row\n",
    "    \n",
    "    # Write the merged data into the output file\n",
    "    header = [\"polytechnic_name\", \"polytechnic_code\", \"probidhan\", \"Session_year\", \"student_roll\"] + [f\"sem_{i}\" for i in range(1, 9)]\n",
    "    \n",
    "    with open(output_file, mode='w', newline='') as file:\n",
    "        writer = csv.DictWriter(file, fieldnames=header)\n",
    "        writer.writeheader()\n",
    "        \n",
    "        # Write all rows from the merged base data\n",
    "        for student_roll, row in base_data.items():\n",
    "            writer.writerow(row)\n"
   ]
  },
  {
   "cell_type": "code",
   "execution_count": 27,
   "metadata": {},
   "outputs": [
    {
     "name": "stdout",
     "output_type": "stream",
     "text": [
      "Merged data written to final_refard_output.csv\n"
     ]
    }
   ],
   "source": [
    "\n",
    "# Example usage\n",
    "base_csv = r'final_refard_output.csv'  # Base CSV file (e.g., semester 1)\n",
    "new_csv = r'2016 Probidhan\\Refard_CSV\\2019-2020\\2029_2020_eighth_semester.csv'  # New CSV file (e.g., semester 8)\n",
    "output_csv = r'final_refard_output.csv'  # Output file where the merged data will be stored\n",
    "\n",
    "semester_num = 8  # The new semester number to add (e.g., 8 for semester 8)\n",
    "\n",
    "# Merge the files and write the result to output_csv\n",
    "merge_refard_csv_files(base_csv, new_csv, semester_num, output_csv)\n",
    "\n",
    "print(f\"Merged data written to {output_csv}\")\n"
   ]
  },
  {
   "cell_type": "markdown",
   "metadata": {},
   "source": [
    "Updated Code for merging Two CSV file "
   ]
  },
  {
   "cell_type": "code",
   "execution_count": 11,
   "metadata": {},
   "outputs": [],
   "source": [
    "import csv\n",
    "\n",
    "# Function to read a CSV file and return the data as a dictionary with student_roll as key\n",
    "def read_csv_to_dict(file_path):\n",
    "    data = {}\n",
    "    with open(file_path, mode='r') as file:\n",
    "        reader = csv.DictReader(file)\n",
    "        for row in reader:\n",
    "            student_roll = row[\"student_roll\"]\n",
    "            data[student_roll] = row\n",
    "    return data\n",
    "\n",
    "# Function to merge the second CSV into the base CSV based on student_roll\n",
    "def merge_csv_files(base_file, new_file, semester_num, output_file):\n",
    "    # Read the base file and new file into dictionaries\n",
    "    base_data = read_csv_to_dict(base_file)\n",
    "    new_data = read_csv_to_dict(new_file)\n",
    "    \n",
    "    semester_names = [\"first_semester\", \"second_semester\", \"third_semester\", \"fourth_semester\", \n",
    "                      \"fifth_semester\", \"sixth_semester\", \"seventh_semester\", \"eighth_semester\"]\n",
    "    \n",
    "    # Merge the new data into the base data\n",
    "    for student_roll, new_row in new_data.items():\n",
    "        if student_roll in base_data:\n",
    "            # Update the existing student row with the new semester data\n",
    "            base_data[student_roll][semester_names[semester_num - 1]] = new_row.get(semester_names[semester_num - 1], 'null')\n",
    "        else:\n",
    "            # If the student doesn't exist in the base, add the new student row with missing semesters set to 'null'\n",
    "            for semester in semester_names:\n",
    "                if semester not in new_row:\n",
    "                    new_row[semester] = 'null'\n",
    "            base_data[student_roll] = new_row\n",
    "    \n",
    "    # Define the header with proper semester names\n",
    "    header = [\"polytechnic_name\", \"polytechnic_code\", \"probidhan\", \"session_year\", \"student_roll\"] + semester_names\n",
    "\n",
    "    \n",
    "    \n",
    "    # Write the merged data into the output file\n",
    "    with open(output_file, mode='w', newline='') as file:\n",
    "        writer = csv.DictWriter(file, fieldnames=header)\n",
    "        writer.writeheader()\n",
    "        \n",
    "        # Write all rows from the merged base data\n",
    "        for student_roll, row in base_data.items():\n",
    "            writer.writerow(row)\n"
   ]
  },
  {
   "cell_type": "code",
   "execution_count": 21,
   "metadata": {},
   "outputs": [
    {
     "name": "stdout",
     "output_type": "stream",
     "text": [
      "Merged data written to Test_Result\\Merge_CSV\\Regular_Result\\Overall_session_result.csv\n"
     ]
    }
   ],
   "source": [
    "\n",
    "# Example usage\n",
    "base_csv = r'Test_Result\\Merge_CSV\\Regular_Result\\Overall_session_result.csv'  # Base CSV file\n",
    "new_csv = r'Test_Result\\2022_Probidhan\\Regular_CSV\\2023_2024_first_Semester.csv'  # New CSV file\n",
    "output_csv = r'Test_Result\\Merge_CSV\\Regular_Result\\Overall_session_result.csv'  # Output file\n",
    "\n",
    "semester_num = 1  # The new semester number to add (1-based index)\n",
    "\n",
    "# Merge the files and write the result to output_csv\n",
    "merge_csv_files(base_csv, new_csv, semester_num, output_csv)\n",
    "\n",
    "print(f\"Merged data written to {output_csv}\")\n"
   ]
  },
  {
   "cell_type": "markdown",
   "metadata": {},
   "source": [
    "<!-- Updated Merge CSV Files Portion  -->"
   ]
  }
 ],
 "metadata": {
  "kernelspec": {
   "display_name": "Python 3",
   "language": "python",
   "name": "python3"
  },
  "language_info": {
   "codemirror_mode": {
    "name": "ipython",
    "version": 3
   },
   "file_extension": ".py",
   "mimetype": "text/x-python",
   "name": "python",
   "nbconvert_exporter": "python",
   "pygments_lexer": "ipython3",
   "version": "3.12.4"
  }
 },
 "nbformat": 4,
 "nbformat_minor": 2
}
