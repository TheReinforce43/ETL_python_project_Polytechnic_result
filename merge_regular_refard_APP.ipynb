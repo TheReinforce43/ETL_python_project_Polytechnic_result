{
 "cells": [
  {
   "cell_type": "code",
   "execution_count": 3,
   "metadata": {},
   "outputs": [
    {
     "data": {
      "text/plain": [
       "'CSV_Result\\\\2025_result\\\\Merge_Refard_CSV/Final_polytechnic_result_APP.csv'"
      ]
     },
     "execution_count": 3,
     "metadata": {},
     "output_type": "execute_result"
    }
   ],
   "source": [
    "import pandas as pd\n",
    "\n",
    "# Define the header order\n",
    "header = [\n",
    "    \"polytechnic_name\", \"polytechnic_code\", \"probidhan\", \"session_year\", \"student_roll\", \n",
    "    \"cgpa\", \"refard_subject\", \"first_semester\", \"second_semester\", \"third_semester\", \n",
    "    \"fourth_semester\", \"fifth_semester\", \"sixth_semester\", \"seventh_semester\", \"eighth_semester\"\n",
    "]\n",
    "\n",
    "# File paths\n",
    "file1_path = r\"CSV_Result\\2025_result\\Merge_Refard_CSV/Final_polytechnic_result_APP.csv\"\n",
    "file2_path = r\"CSV_Result\\2025_result\\APP_CSV\\2023_2024_second_Semester.csv\"\n",
    "\n",
    "# Read CSV files\n",
    "df1 = pd.read_csv(file1_path, dtype=str)\n",
    "df2 = pd.read_csv(file2_path, dtype=str)\n",
    "\n",
    "# Standardize column names based on the header\n",
    "df1 = df1.reindex(columns=header, fill_value=\"\")\n",
    "df2 = df2.reindex(columns=header, fill_value=\"\")\n",
    "\n",
    "# Merge both dataframes\n",
    "merged_df = pd.concat([df1, df2], ignore_index=True)\n",
    "\n",
    "# Save the merged file\n",
    "output_path = r\"CSV_Result\\2025_result\\Merge_Refard_CSV/Final_polytechnic_result_APP.csv\"\n",
    "merged_df.to_csv(output_path, index=False)\n",
    "\n",
    "# Return the output file path\n",
    "output_path\n"
   ]
  }
 ],
 "metadata": {
  "kernelspec": {
   "display_name": "Python 3",
   "language": "python",
   "name": "python3"
  },
  "language_info": {
   "codemirror_mode": {
    "name": "ipython",
    "version": 3
   },
   "file_extension": ".py",
   "mimetype": "text/x-python",
   "name": "python",
   "nbconvert_exporter": "python",
   "pygments_lexer": "ipython3",
   "version": "3.12.4"
  }
 },
 "nbformat": 4,
 "nbformat_minor": 2
}
