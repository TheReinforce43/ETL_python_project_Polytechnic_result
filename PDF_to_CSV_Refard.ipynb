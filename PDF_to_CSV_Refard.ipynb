{
 "cells": [
  {
   "cell_type": "markdown",
   "metadata": {},
   "source": [
    "Optimize code that remove unexpected text from fail subject "
   ]
  },
  {
   "cell_type": "code",
   "execution_count": 1,
   "metadata": {},
   "outputs": [],
   "source": [
    "import re\n",
    "import csv\n",
    "from PyPDF2 import PdfReader\n",
    "\n",
    "# Function to clean extracted subjects by removing unwanted prefixes\n",
    "def clean_subjects(subjects):\n",
    "    # Define a regex pattern to match unwanted prefixes followed by subjects\n",
    "    pattern = r'\\b\\w+_sub-\\s*'\n",
    "    # Remove the unwanted prefixes\n",
    "    cleaned_subjects = re.sub(pattern, '', subjects)\n",
    "    return cleaned_subjects.strip()\n",
    "\n",
    "# Function to extract student data from the PDF for a given semester\n",
    "def extract_student_data_from_pdf(pdf_file, session_year, probidhan, semester_num):\n",
    "    student_data = []\n",
    "\n",
    "    # Regex patterns to capture relevant information\n",
    "    polytechnic_pattern = r\"(\\d{5}) - ([A-Za-z\\s,]+)\"  # Matches 'polytechnic_code - polytechnic_name'\n",
    "    student_subject_pattern = r\"(\\d{6})\\s*{\\s*([^}]*)}\"  # Matches 'student_roll { subjects }'\n",
    "\n",
    "    reader = PdfReader(pdf_file)\n",
    "    for page in reader.pages:\n",
    "        text = page.extract_text()\n",
    "\n",
    "        # Extract polytechnic information (code and name)\n",
    "        polytechnic_match = re.search(polytechnic_pattern, text)\n",
    "        if polytechnic_match:\n",
    "            polytechnic_code = polytechnic_match.group(1)\n",
    "            polytechnic_name = polytechnic_match.group(2).strip()\n",
    "\n",
    "        # Find all student results (roll number and referred subjects)\n",
    "        student_matches = re.findall(student_subject_pattern, text)\n",
    "\n",
    "        # Store each student's data\n",
    "        for student_roll, subjects in student_matches:\n",
    "            # Clean subjects and split by comma\n",
    "            cleaned_subjects = clean_subjects(subjects)\n",
    "            subject_list = cleaned_subjects.split(', ')\n",
    "\n",
    "            # Initialize semesters with 'null' values for semesters 1 to 8\n",
    "            semester_keys = [\"first\", \"second\", \"third\", \"fourth\", \"fifth\", \"sixth\", \"seventh\", \"eighth\"]\n",
    "            semesters = {f\"{i}_semester\": \"null\" for i in semester_keys}\n",
    "\n",
    "            # Assign all subjects to the provided semester\n",
    "            semesters[f\"{semester_keys[semester_num - 1]}_semester\"] = ', '.join(subject_list)\n",
    "\n",
    "            # Append student data with all semesters\n",
    "            student_data.append({\n",
    "                \"polytechnic_name\": polytechnic_name,\n",
    "                \"polytechnic_code\": polytechnic_code,\n",
    "                \"probidhan\": probidhan,\n",
    "                \"session_year\": session_year,\n",
    "                \"student_roll\": student_roll,\n",
    "                **semesters  # Store all semester data\n",
    "            })\n",
    "\n",
    "    return student_data\n",
    "\n",
    "# Function to write the extracted data to CSV\n",
    "def write_to_csv(file_path, student_data):\n",
    "    header = [\"polytechnic_name\", \"polytechnic_code\", \"probidhan\", \"session_year\", \"student_roll\"] + \\\n",
    "             [\"first_semester\", \"second_semester\", \"third_semester\", \"fourth_semester\",\n",
    "              \"fifth_semester\", \"sixth_semester\", \"seventh_semester\", \"eighth_semester\"]\n",
    "\n",
    "    with open(file_path, mode='w', newline='') as file:\n",
    "        writer = csv.DictWriter(file, fieldnames=header)\n",
    "        writer.writeheader()\n",
    "        for data in student_data:\n",
    "            writer.writerow(data)\n"
   ]
  },
  {
   "cell_type": "code",
   "execution_count": 18,
   "metadata": {},
   "outputs": [],
   "source": [
    "\n",
    "# Example usage\n",
    "pdf_file = r'Test_Result\\2022_Probidhan\\Data\\Session_2023_2024\\Result_1st_2022_Regulation.pdf'  # Replace with your actual file path\n",
    "session_year = '2023-2024'  # Example session year\n",
    "probidhan = '2022'  # Example probidhan\n",
    "semester_num=1\n",
    "\n",
    "# Extract the student data from the PDF\n",
    "student_data = extract_student_data_from_pdf(pdf_file, session_year, probidhan,semester_num)\n"
   ]
  },
  {
   "cell_type": "code",
   "execution_count": 19,
   "metadata": {},
   "outputs": [
    {
     "name": "stdout",
     "output_type": "stream",
     "text": [
      "Data successfully written to Test_Result\\2022_Probidhan\\Refard_CSV\\2023_2024_first_semester.csv\n"
     ]
    }
   ],
   "source": [
    "\n",
    "# Write the extracted data to a CSV file\n",
    "csv_file_path = r'Test_Result\\2022_Probidhan\\Refard_CSV\\2023_2024_first_semester.csv'  # Replace with your actual output file path\n",
    "write_to_csv(csv_file_path, student_data)\n",
    "\n",
    "print(f\"Data successfully written to {csv_file_path}\")"
   ]
  }
 ],
 "metadata": {
  "kernelspec": {
   "display_name": "Python 3",
   "language": "python",
   "name": "python3"
  },
  "language_info": {
   "codemirror_mode": {
    "name": "ipython",
    "version": 3
   },
   "file_extension": ".py",
   "mimetype": "text/x-python",
   "name": "python",
   "nbconvert_exporter": "python",
   "pygments_lexer": "ipython3",
   "version": "3.12.4"
  }
 },
 "nbformat": 4,
 "nbformat_minor": 2
}
