{
 "cells": [
  {
   "cell_type": "code",
   "execution_count": 12,
   "metadata": {},
   "outputs": [
    {
     "name": "stderr",
     "output_type": "stream",
     "text": [
      "C:\\Users\\HP\\AppData\\Local\\Temp\\ipykernel_6116\\2300777446.py:9: DtypeWarning: Columns (5,7,8,9,10,12) have mixed types. Specify dtype option on import or set low_memory=False.\n",
      "  base_df = pd.read_csv(base_file_path)\n"
     ]
    }
   ],
   "source": [
    "import pandas as pd\n",
    "import re\n",
    "\n",
    "# Load the CSV files\n",
    "base_file_path = r'Overall_final_refard_output_2025.csv'\n",
    "new_file_path = r'unique_subject_for_result.csv'\n",
    "\n",
    "# Read the base and new files\n",
    "base_df = pd.read_csv(base_file_path)\n",
    "new_df = pd.read_csv(new_file_path)\n",
    "\n",
    "# Create a mapping of subject codes to subject names from new_df\n",
    "subject_mapping = new_df.set_index('Subject_Code')['Subject_Name'].to_dict()\n",
    "\n",
    "# Function to format subject notation correctly\n",
    "def organize_subject_format(semester_data, mapping):\n",
    "    # Find all subject codes in the format 25911(T,P) or similar using regex\n",
    "    subject_codes = re.findall(r'(\\d+)\\((.*?)\\)', semester_data)\n",
    "    \n",
    "    # Replace each subject code with the corresponding subject name in the desired format\n",
    "    organized_subjects = []\n",
    "    for code, notation in subject_codes:\n",
    "        if int(code) in mapping:\n",
    "            subject_name = mapping[int(code)]\n",
    "            # Format as \"Subject_Name + notation without comma + (Code)\"\n",
    "            notation_clean = notation.replace(\",\", \"\")  # Remove commas from notation\n",
    "            replacement = f\"{subject_name}{notation_clean}({code})\"\n",
    "            organized_subjects.append(replacement)\n",
    "    \n",
    "    # Join the organized subjects back into a string\n",
    "    return ', '.join(organized_subjects)\n",
    "\n",
    "# Apply the function to all semester columns in base_df\n",
    "semester_columns = [col for col in base_df.columns if col.startswith('sem_')]\n",
    "\n",
    "for col in semester_columns:\n",
    "    base_df[col] = base_df[col].astype(str).apply(lambda x: organize_subject_format(x, subject_mapping) if pd.notnull(x) else x)\n",
    "\n",
    "# Save the updated DataFrame to a new CSV\n",
    "base_df.to_csv('Final_result_unique_updated_2025.csv', index=False)\n"
   ]
  },
  {
   "cell_type": "code",
   "execution_count": 15,
   "metadata": {},
   "outputs": [
    {
     "name": "stdout",
     "output_type": "stream",
     "text": [
      "Updated CSV saved as: refard_result_unique_updated_final_2025.csv\n"
     ]
    }
   ],
   "source": [
    "import pandas as pd\n",
    "import re\n",
    "\n",
    "# File paths\n",
    "base_file_path = \"Final_refard_output_2025.csv\"\n",
    "subject_file_path = \"Final_subject_list2022_2016.csv\"\n",
    "\n",
    "# Load data\n",
    "base_df = pd.read_csv(base_file_path)\n",
    "subject_df = pd.read_csv(subject_file_path)\n",
    "\n",
    "# Convert Subject_Code to string to ensure proper mapping\n",
    "subject_df[\"Subject_Code\"] = subject_df[\"Subject_Code\"].astype(str)\n",
    "\n",
    "# Create a dictionary mapping subject codes to subject names\n",
    "subject_mapping = subject_df.set_index(\"Subject_Code\")[\"Subject_Name\"].to_dict()\n",
    "\n",
    "# Function to replace subject codes with names\n",
    "def organize_subject_format(semester_data, mapping):\n",
    "    if pd.isna(semester_data) or not isinstance(semester_data, str) or semester_data.strip() == \"\":\n",
    "        return \"\"  # Keep empty fields empty\n",
    "\n",
    "    # Find subject codes in the format 25911(T,P) or similar using regex\n",
    "    subject_codes = re.findall(r'(\\d+)\\((.*?)\\)', semester_data)\n",
    "\n",
    "    organized_subjects = []\n",
    "    for code, notation in subject_codes:\n",
    "        if code in mapping:\n",
    "            subject_name = mapping[code]  # Replace code with name\n",
    "            notation_clean = notation.replace(\",\", \"\")  # Remove commas from notation\n",
    "            replacement = f\"{subject_name}{notation_clean}({code})\"\n",
    "            organized_subjects.append(replacement)\n",
    "\n",
    "    return ', '.join(organized_subjects) if organized_subjects else semester_data  # Preserve original if no match\n",
    "\n",
    "# Identify semester columns dynamically (e.g., first_semester, second_semester, etc.)\n",
    "semester_columns = [col for col in base_df.columns if \"semester\" in col.lower()]\n",
    "\n",
    "# Apply the function to all semester columns\n",
    "for col in semester_columns:\n",
    "    base_df[col] = base_df[col].astype(str).apply(lambda x: organize_subject_format(x, subject_mapping) if pd.notnull(x) else x)\n",
    "\n",
    "# Replace NaN values with empty strings before saving\n",
    "base_df = base_df.fillna(\"\")\n",
    "\n",
    "# Save the updated DataFrame to a CSV file\n",
    "output_file = \"refard_result_unique_updated_final_2025.csv\"\n",
    "base_df.to_csv(output_file, index=False, na_rep=\"\")\n",
    "\n",
    "print(f\"Updated CSV saved as: {output_file}\")\n"
   ]
  },
  {
   "cell_type": "code",
   "execution_count": 10,
   "metadata": {},
   "outputs": [
    {
     "name": "stderr",
     "output_type": "stream",
     "text": [
      "C:\\Users\\HP\\AppData\\Local\\Temp\\ipykernel_6116\\2061349083.py:16: DtypeWarning: Columns (1,2,4,5,7,8,9,10,11,12) have mixed types. Specify dtype option on import or set low_memory=False.\n",
      "  overall_refard_df = pd.read_csv(overall_refard_path, header=None, names=[\"Subject_Code\"])\n"
     ]
    },
    {
     "name": "stdout",
     "output_type": "stream",
     "text": [
      "Final CSV file saved as Final_refard_output_2025.csv\n"
     ]
    }
   ],
   "source": [
    "import pandas as pd\n",
    "import re\n",
    "\n",
    "# File paths\n",
    "overall_refard_path = r\"Overall_final_refard_output_2025.csv\"\n",
    "unique_subject_path =r\"unique_subject_for_result.csv\"\n",
    "final_output_path = r\"Final_refard_output_2025.csv\"\n",
    "\n",
    "# Load the unique subject mapping (subject_code -> subject_name, credit)\n",
    "unique_subject_df = pd.read_csv(unique_subject_path)\n",
    "\n",
    "# Convert Subject_Code to string for mapping\n",
    "unique_subject_df[\"Subject_Code\"] = unique_subject_df[\"Subject_Code\"].astype(str)\n",
    "\n",
    "# Load the overall referred subjects file\n",
    "overall_refard_df = pd.read_csv(overall_refard_path, header=None, names=[\"Subject_Code\"])\n",
    "\n",
    "# Convert Subject_Code to string\n",
    "overall_refard_df[\"Subject_Code\"] = overall_refard_df[\"Subject_Code\"].astype(str)\n",
    "\n",
    "# Function to replace subject codes with their corresponding names and credits\n",
    "def replace_subject_codes(subject_codes, mapping_df):\n",
    "    if pd.isna(subject_codes):\n",
    "        return \"\"\n",
    "\n",
    "    subject_list = re.split(r'[,\\s]+', subject_codes.strip())  # Split by commas and spaces\n",
    "    mapped_subjects = []\n",
    "\n",
    "    for code in subject_list:\n",
    "        match = mapping_df[mapping_df[\"Subject_Code\"] == code]\n",
    "        if not match.empty:\n",
    "            subject_name = match[\"Subject_Name\"].values[0]\n",
    "            subject_credit = match[\"Subject_Credit\"].values[0]\n",
    "            mapped_subjects.append(f\"{subject_name} ({subject_credit} Credits)\")\n",
    "        else:\n",
    "            mapped_subjects.append(code)  # Keep original if no match\n",
    "\n",
    "    return \", \".join(mapped_subjects)\n",
    "\n",
    "# Apply the transformation\n",
    "overall_refard_df[\"Mapped_Subjects\"] = overall_refard_df[\"Subject_Code\"].apply(lambda x: replace_subject_codes(x, unique_subject_df))\n",
    "\n",
    "# Save final output\n",
    "overall_refard_df[[\"Mapped_Subjects\"]].to_csv(final_output_path, index=False)\n",
    "\n",
    "print(f\"Final CSV file saved as {final_output_path}\")\n"
   ]
  },
  {
   "cell_type": "code",
   "execution_count": 1,
   "metadata": {},
   "outputs": [
    {
     "name": "stderr",
     "output_type": "stream",
     "text": [
      "C:\\Users\\HP\\AppData\\Local\\Temp\\ipykernel_9948\\118959677.py:9: DtypeWarning: Columns (5,7,8,9,10,12) have mixed types. Specify dtype option on import or set low_memory=False.\n",
      "  base_df = pd.read_csv(base_file_path)\n"
     ]
    }
   ],
   "source": [
    "import pandas as pd\n",
    "import re\n",
    "\n",
    "# Load the CSV files\n",
    "base_file_path = \"final_refard_output_Updated_2025.csv\"\n",
    "new_file_path = 'unique_subject_for_result.csv'\n",
    "\n",
    "# Read the base and new files\n",
    "base_df = pd.read_csv(base_file_path)\n",
    "new_df = pd.read_csv(new_file_path)\n",
    "\n",
    "# Create a mapping of subject codes to subject names from new_df\n",
    "subject_mapping = new_df.set_index('Subject_Code')['Subject_Name'].to_dict()\n",
    "\n",
    "# Function to format subject notation correctly\n",
    "def organize_subject_format(semester_data, mapping):\n",
    "    # Find all subject codes in the format 25911(T,P) or similar using regex\n",
    "    subject_codes = re.findall(r'(\\d+)\\((.*?)\\)', semester_data)\n",
    "    \n",
    "    # Replace each subject code with the corresponding subject name in the desired format\n",
    "    organized_subjects = []\n",
    "    for code, notation in subject_codes:\n",
    "        if int(code) in mapping:\n",
    "            subject_name = mapping[int(code)]\n",
    "            # Format as \"Subject_Name + notation without comma + (Code)\"\n",
    "            notation_clean = notation.replace(\",\", \"\")  # Remove commas from notation\n",
    "            replacement = f\"{subject_name}{notation_clean}({code})\"\n",
    "            organized_subjects.append(replacement)\n",
    "    \n",
    "    # Join the organized subjects back into a string\n",
    "    return ', '.join(organized_subjects)\n",
    "\n",
    "# Apply the function to all semester columns in base_df\n",
    "semester_columns = [col for col in base_df.columns if col.startswith('sem_')]\n",
    "\n",
    "for col in semester_columns:\n",
    "    base_df[col] = base_df[col].astype(str).apply(lambda x: organize_subject_format(x, subject_mapping) if pd.notnull(x) else x)\n",
    "\n",
    "# Save the updated DataFrame to a new CSV\n",
    "base_df.to_csv('Refard_result_unique_updated_2025.csv', index=False)\n"
   ]
  }
 ],
 "metadata": {
  "kernelspec": {
   "display_name": "Python 3",
   "language": "python",
   "name": "python3"
  },
  "language_info": {
   "codemirror_mode": {
    "name": "ipython",
    "version": 3
   },
   "file_extension": ".py",
   "mimetype": "text/x-python",
   "name": "python",
   "nbconvert_exporter": "python",
   "pygments_lexer": "ipython3",
   "version": "3.12.4"
  }
 },
 "nbformat": 4,
 "nbformat_minor": 2
}
